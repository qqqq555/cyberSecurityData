{
 "cells": [
  {
   "cell_type": "code",
   "execution_count": 2,
   "id": "7c02088f",
   "metadata": {},
   "outputs": [],
   "source": [
    "import pandas as pd\n",
    "import re\n",
    "from sklearn.ensemble import IsolationForest\n",
    "from sklearn.preprocessing import StandardScaler\n",
    "with open('access.log', 'r', encoding='utf-8') as f:\n",
    "    lines = f.readlines()"
   ]
  },
  {
   "cell_type": "code",
   "execution_count": 3,
   "id": "b20f984c",
   "metadata": {},
   "outputs": [],
   "source": [
    "# 使用正規表達式，將每行 log 解析成對應欄位\n",
    "pattern = re.compile(\n",
    "    r'(?P<ip>\\S+) - - \\[(?P<time>.*?)\\] \"(?P<method>\\S+) (?P<url>\\S+) (?P<protocol>[^\"]+)\" (?P<status>\\d{3}) (?P<size>\\d+) \"(?P<referrer>[^\"]*)\" \"(?P<agent>[^\"]*)\"'   \n",
    ")\n",
    "records = []\n",
    "for line in lines:\n",
    "    match = pattern.match(line)\n",
    "    if match:\n",
    "        records.append(match.groupdict())"
   ]
  },
  {
   "cell_type": "code",
   "execution_count": 4,
   "id": "6c319a4b",
   "metadata": {},
   "outputs": [],
   "source": [
    "# 將解析後的紀錄轉成 DataFrame\n",
    "df = pd.DataFrame(records)\n",
    "# 將時間欄位轉換為 datetime 格式，並擷取小時數作為欄位 hour\n",
    "df['time'] = pd.to_datetime(df['time'], format='%d/%b/%Y:%H:%M:%S %z')\n",
    "df['hour'] = df['time'].dt.hour"
   ]
  },
  {
   "cell_type": "code",
   "execution_count": 5,
   "id": "381e1342",
   "metadata": {},
   "outputs": [
    {
     "data": {
      "text/plain": [
       "ip\n",
       "66.249.66.194      353483\n",
       "66.249.66.91       314522\n",
       "151.239.241.163     92473\n",
       "66.249.66.92        88332\n",
       "91.99.30.32         45973\n",
       "104.222.32.91       42058\n",
       "91.99.72.15         38694\n",
       "91.99.47.57         38609\n",
       "5.78.190.233        37203\n",
       "195.181.168.181     27979\n",
       "Name: count, dtype: int64"
      ]
     },
     "execution_count": 5,
     "metadata": {},
     "output_type": "execute_result"
    }
   ],
   "source": [
    "# 統計出現次數最多的來源 IP\n",
    "df['ip'].value_counts().head(10)"
   ]
  },
  {
   "cell_type": "code",
   "execution_count": 6,
   "id": "40cb4172",
   "metadata": {},
   "outputs": [
    {
     "data": {
      "text/plain": [
       "agent\n",
       "Mozilla/5.0 (Linux; Android 6.0.1; Nexus 5X Build/MMB29P) AppleWebKit/537.36 (KHTML, like Gecko) Chrome/41.0.2272.96 Mobile Safari/537.36 (compatible; Googlebot/2.1; +http://www.google.com/bot.html)    450555\n",
       "Mozilla/5.0 (compatible; bingbot/2.0; +http://www.bing.com/bingbot.htm)                                                                                                                                   197769\n",
       "Mozilla/5.0 (compatible; Googlebot/2.1; +http://www.google.com/bot.html)                                                                                                                                  191450\n",
       "Googlebot-Image/1.0                                                                                                                                                                                       159118\n",
       "Mozilla/5.0 (compatible; AhrefsBot/6.1; +http://ahrefs.com/robot/)                                                                                                                                         56476\n",
       "                                                                                                                                                                                                           ...  \n",
       "Mozilla/5.0 (Windows NT 6.1; Win64; x64; +https://www.ubtsupport.com/legal/Streamline3Bot.php) Streamline3Bot/1.0                                                                                              1\n",
       "Googlebot (gocrawl v0.4)                                                                                                                                                                                       1\n",
       "OdklBot/1.0 (share@odnoklassniki.ru)                                                                                                                                                                           1\n",
       "Dalvik/1.6.0 (Linux; U; Android 4.2.2; GLX SpiderI Build/JDQ39)                                                                                                                                                1\n",
       "Mozilla/5.0 (Linux; Android 4.4.2; GLX Spider1S Build/KOT49H) AppleWebKit/537.36 (KHTML, like Gecko) Chrome/49.0.2623.105 Mobile Safari/537.36                                                                 1\n",
       "Name: count, Length: 82, dtype: int64"
      ]
     },
     "execution_count": 6,
     "metadata": {},
     "output_type": "execute_result"
    }
   ],
   "source": [
    "# 找出常見的 bot User-Agent\n",
    "df[df['agent'].str.contains('bot|spider', case=False)]['agent'].value_counts()"
   ]
  },
  {
   "cell_type": "code",
   "execution_count": 8,
   "id": "ed8225a4",
   "metadata": {},
   "outputs": [
    {
     "data": {
      "text/plain": [
       "<Axes: title={'center': 'request per hour'}, xlabel='hour'>"
      ]
     },
     "execution_count": 8,
     "metadata": {},
     "output_type": "execute_result"
    },
    {
     "data": {
      "image/png": "[encoded data removed]",
      "text/plain": [
       "<Figure size 1000x400 with 1 Axes>"
      ]
     },
     "metadata": {},
     "output_type": "display_data"
    }
   ],
   "source": [
    "# 繪製每小時請求數統計圖\n",
    "df['hour'].value_counts().sort_index().plot(kind='bar', figsize=(10,4), title=\"request per hour\")"
   ]
  },
  {
   "cell_type": "code",
   "execution_count": 9,
   "id": "1e95d197",
   "metadata": {},
   "outputs": [
    {
     "data": {
      "text/plain": [
       "status\n",
       "200    9579824\n",
       "304     340228\n",
       "302     199835\n",
       "404     105011\n",
       "301      67551\n",
       "499      50852\n",
       "500      14266\n",
       "403       5634\n",
       "502        798\n",
       "400        529\n",
       "401        323\n",
       "408        112\n",
       "504        103\n",
       "405          6\n",
       "206          3\n",
       "Name: count, dtype: int64"
      ]
     },
     "execution_count": 9,
     "metadata": {},
     "output_type": "execute_result"
    }
   ],
   "source": [
    "# 統計 HTTP 回應狀態碼\n",
    "df['status'].value_counts()"
   ]
  },
  {
   "cell_type": "code",
   "execution_count": 10,
   "id": "7c6f0d48",
   "metadata": {},
   "outputs": [
    {
     "data": {
      "text/plain": [
       "url\n",
       "/settings/logo                                352047\n",
       "/static/css/font/wyekan/font.woff             280176\n",
       "/static/images/guarantees/bestPrice.png       138010\n",
       "/static/images/guarantees/fastDelivery.png    125689\n",
       "/static/images/guarantees/warranty.png        124127\n",
       "/static/images/guarantees/goodShopping.png    116653\n",
       "/site/alexaGooleAnalitic                      103798\n",
       "/favicon.ico                                  102731\n",
       "/static/images/guarantees/support.png          98460\n",
       "/static/images/amp/telegram.png                92409\n",
       "Name: count, dtype: int64"
      ]
     },
     "execution_count": 10,
     "metadata": {},
     "output_type": "execute_result"
    }
   ],
   "source": [
    "# 哪些 URL 最常被存取\n",
    "df['url'].value_counts().head(10)"
   ]
  },
  {
   "cell_type": "code",
   "execution_count": 11,
   "id": "aec1bc4c",
   "metadata": {
    "scrolled": true
   },
   "outputs": [
    {
     "data": {
      "text/plain": [
       "ip\n",
       "66.249.66.194      117379\n",
       "66.249.66.91        93532\n",
       "151.239.241.163     53309\n",
       "104.222.32.91       40667\n",
       "195.181.168.181     26343\n",
       "195.181.168.164     22886\n",
       "17.58.102.43        20902\n",
       "91.99.30.32         20373\n",
       "66.249.66.92        18983\n",
       "5.78.190.233        17375\n",
       "Name: url, dtype: int64"
      ]
     },
     "execution_count": 11,
     "metadata": {},
     "output_type": "execute_result"
    }
   ],
   "source": [
    "# 單一 IP 嘗試連很多 URL\n",
    "df.groupby('ip')['url'].nunique().sort_values(ascending=False).head(10)"
   ]
  },
  {
   "cell_type": "code",
   "execution_count": 5,
   "id": "1101b4cc",
   "metadata": {},
   "outputs": [],
   "source": [
    "# 把 response size 轉成數字才能進模型\n",
    "df['size'] = df['size'].astype(float)\n",
    "features = df[['size', 'hour']]\n",
    "scaler = StandardScaler()\n",
    "X_scaled = scaler.fit_transform(features)"
   ]
  },
  {
   "cell_type": "code",
   "execution_count": 10,
   "id": "584c8eb8",
   "metadata": {},
   "outputs": [],
   "source": [
    "iso = IsolationForest(contamination=0.001, random_state=42)\n",
    "df['anomaly'] = iso.fit_predict(X_scaled) == -1"
   ]
  },
  {
   "cell_type": "code",
   "execution_count": 11,
   "id": "3541890c",
   "metadata": {},
   "outputs": [
    {
     "name": "stdout",
     "output_type": "stream",
     "text": [
      "                    ip                      time method  \\\n",
      "374      207.46.13.136 2019-01-22 03:57:31+03:30    GET   \n",
      "978        89.47.79.75 2019-01-22 03:59:10+03:30    GET   \n",
      "1036      95.81.118.56 2019-01-22 03:59:16+03:30    GET   \n",
      "1301     207.46.13.104 2019-01-22 04:00:05+03:30    GET   \n",
      "1610     207.46.13.136 2019-01-22 04:01:11+03:30    GET   \n",
      "...                ...                       ...    ...   \n",
      "9222456  91.99.213.141 2019-01-26 12:59:36+03:30    GET   \n",
      "9222766  91.99.213.141 2019-01-26 12:59:42+03:30    GET   \n",
      "9222918  91.99.213.141 2019-01-26 12:59:46+03:30    GET   \n",
      "9223146  91.99.213.141 2019-01-26 12:59:49+03:30    GET   \n",
      "9223408  91.99.213.141 2019-01-26 12:59:53+03:30    GET   \n",
      "\n",
      "                                                       url  protocol status  \\\n",
      "374                      /image/32352?name=7980.jpg&wh=max  HTTP/1.1    200   \n",
      "978                /static/bundle-bundle_site_defer.min.js  HTTP/1.1    200   \n",
      "1036               /static/bundle-bundle_site_defer.min.js  HTTP/1.1    200   \n",
      "1301                /image/18822?name=motorized.jpg&wh=max  HTTP/1.1    200   \n",
      "1610     /image/15679?name=calite-charm-silaa111.jpg&wh...  HTTP/1.1    200   \n",
      "...                                                    ...       ...    ...   \n",
      "9222456                           /product/2303?model=4158  HTTP/1.1    200   \n",
      "9222766                           /product/2302?model=2587  HTTP/1.1    200   \n",
      "9222918                         /product/20169?model=43726  HTTP/1.1    200   \n",
      "9223146                         /product/31280?model=61212  HTTP/1.1    200   \n",
      "9223408                           /product/1198?model=1869  HTTP/1.1    200   \n",
      "\n",
      "             size                             referrer  \\\n",
      "374      174758.0                                    -   \n",
      "978      185207.0               https://www.zanbil.ir/   \n",
      "1036     185207.0  https://www.zanbil.ir/filter/b1,p62   \n",
      "1301     352829.0                                    -   \n",
      "1610     227651.0                                    -   \n",
      "...           ...                                  ...   \n",
      "9222456  550137.0                                    -   \n",
      "9222766  549893.0                                    -   \n",
      "9222918  539848.0                                    -   \n",
      "9223146  545941.0                                    -   \n",
      "9223408  552106.0                                    -   \n",
      "\n",
      "                                                     agent  hour  anomaly  \n",
      "374      Mozilla/5.0 (compatible; bingbot/2.0; +http://...     3     True  \n",
      "978      Mozilla/5.0 (Windows NT 6.3; Win64; x64) Apple...     3     True  \n",
      "1036     Mozilla/5.0 (Windows NT 6.1; Win64; x64) Apple...     3     True  \n",
      "1301     Mozilla/5.0 (compatible; bingbot/2.0; +http://...     4     True  \n",
      "1610     Mozilla/5.0 (compatible; bingbot/2.0; +http://...     4     True  \n",
      "...                                                    ...   ...      ...  \n",
      "9222456  Mozilla/5.0 (Windows; U; Windows NT 5.1; en-US...    12     True  \n",
      "9222766  Mozilla/5.0 (Windows; U; Windows NT 5.1; en-US...    12     True  \n",
      "9222918  Mozilla/5.0 (Windows; U; Windows NT 5.1; en-US...    12     True  \n",
      "9223146  Mozilla/5.0 (Windows; U; Windows NT 5.1; en-US...    12     True  \n",
      "9223408  Mozilla/5.0 (Windows; U; Windows NT 5.1; en-US...    12     True  \n",
      "\n",
      "[10327 rows x 11 columns]\n"
     ]
    }
   ],
   "source": [
    "print(df[df['anomaly']])"
   ]
  },
  {
   "cell_type": "code",
   "execution_count": null,
   "id": "500927b4",
   "metadata": {},
   "outputs": [],
   "source": []
  }
 ],
 "metadata": {
  "kernelspec": {
   "display_name": "Python 3 (ipykernel)",
   "language": "python",
   "name": "python3"
  },
  "language_info": {
   "codemirror_mode": {
    "name": "ipython",
    "version": 3
   },
   "file_extension": ".py",
   "mimetype": "text/x-python",
   "name": "python",
   "nbconvert_exporter": "python",
   "pygments_lexer": "ipython3",
   "version": "3.12.3"
  }
 },
 "nbformat": 4,
 "nbformat_minor": 5
}
